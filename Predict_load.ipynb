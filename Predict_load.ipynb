{
 "cells": [
  {
   "cell_type": "raw",
   "metadata": {},
   "source": [
    "Q: predict the load on our website in near realtime.\n",
    "    t = 0, load = 10 t = 1, load = 15 t = 2, load = 30 t = 3, load = ? t = 4, load = ?\n",
    "    First write a method called fit(data) that returns a model and then write a method called predict(model, time) that returns the load\n",
    "    It is known the load on the website is a non-linear equations i.e. load = a * t^2 + b * t + c\n",
    "    Start with pen and papers. Do it manually first and then come up with a stragetegy to do with code."
   ]
  },
  {
   "cell_type": "markdown",
   "metadata": {},
   "source": [
    "Calculation :\n",
    "(t,l) -> (0,10) (1,15) (2,30) (4,?)\n",
    "l = a * t^2 + b * t + c\n",
    "\n",
    "substitue:\n",
    " E0 : 10 = a * 0 + b*0 + c   C=10\n",
    " E1:  15 = a *1 + b*1 + c\n",
    " E2:  30 = a *4 + b*2 + c\n",
    " \n",
    " Eliminate C\n",
    " E1-E0 => 5 = 1a+1b\n",
    " E2-E0 -> 20 = 4a+2b\n",
    "\n",
    "Eliminate B: \n",
    "    E1-E0 /1 => 5 = 1a+ b\n",
    "    E2 -E0/2 => 10 = 2a +b\n",
    " Find a:\n",
    "  Diffence : 5 = 1a \n",
    "             \n",
    "             **a = 5\n",
    " Find b:\n",
    " 10 = 2a + b  -> 10 = 2*5 +b\n",
    "  b = 10 - 10\n",
    "  ***b = 0\n",
    "\n",
    "Find c:\n",
    "30 = 5 * 4 + 0 + c\n",
    "c =10\n",
    "- Equation:\n",
    "\n",
    "yo = a * x0**2 + b * x0 + c\n",
    "y1 = a* x1**2 + b*x1 +c\n",
    "y2 = a * x2**2 + b*x2 + c\n",
    "\n",
    "y1 - y0 = a*(x1**2 - X0**2) + b(x1-x0)\n",
    "y2 - y0 = a*(x2**2 - x0**2) + b(x2-x0)\n",
    "\n",
    "(y1 - y0) / (x1-x0) = a*(x1**2 - X0**2)/(x1-x0) + b\n",
    "(y2 - y0)/ (x2-x0) = a*(x2**2 - x0**2)/ (x2-x0) + b\n",
    "\n",
    "((y2 - y0)/ (x2-x0)) - ((y1 - y0) / (x1-x0)) = a * ( (x2**2 - x0**2)/ (x2-x0) - (x1**2 - X0**2)/(x1-x0) ) \n",
    "\n",
    "***a = ((y2 - y0) / (x2-x0)) - ((y1 - y0)/ (x1-x0)) / ( (x2**2 - X0**2)/(x2-x0) - (x1**2 - x0**2)/ (x1-x0) ) \n",
    "\n",
    "Find b:\n",
    "b = ((y1 - y0) / (x1-x0)) - a*(x1**2 - X0**2)/(x1-x0)\n",
    "\n",
    "Find C :\n",
    "c = yo - (a * x0**2 + b * x0)\n",
    "\n"
   ]
  },
  {
   "cell_type": "code",
   "execution_count": 16,
   "metadata": {},
   "outputs": [
    {
     "data": {
      "text/plain": [
       "(5.0, 0.0, 10.0)"
      ]
     },
     "execution_count": 16,
     "metadata": {},
     "output_type": "execute_result"
    }
   ],
   "source": [
    "def fit(data) :\n",
    "    if not (len(data) ==3 ) :\n",
    "        return \"invalid input\"\n",
    "    \n",
    "    x0,y0 = data[0]\n",
    "    x1,y1 = data[1]\n",
    "    x2,y2 = data[2]\n",
    "    \n",
    "    a = (((y2 - y0) / (x2-x0)) - ((y1 - y0)/ (x1-x0))) / ( (x2**2 - x0**2)/(x2-x0) - (x1**2 - x0**2)/ (x1-x0) ) \n",
    "    b = ((y1 - y0) / (x1-x0)) - a*(x1**2 - x0**2)/(x1-x0)\n",
    "    c = y0 - (a * x0**2 + b * x0)\n",
    "    return a,b,c\n",
    "fit([(0,10),(1,15),(2,30)])"
   ]
  },
  {
   "cell_type": "code",
   "execution_count": 15,
   "metadata": {},
   "outputs": [
    {
     "data": {
      "text/plain": [
       "35.0"
      ]
     },
     "execution_count": 15,
     "metadata": {},
     "output_type": "execute_result"
    }
   ],
   "source": [
    "def predict(data,x) :\n",
    "    model = fit(data)\n",
    "    #y = a * x**2 + b*x + c\n",
    "    y = model[0]**2 + b*x + c\n",
    "    return y\n",
    "predict([(0,10),(1,15),(2,30)],3)"
   ]
  },
  {
   "cell_type": "code",
   "execution_count": null,
   "metadata": {},
   "outputs": [],
   "source": []
  },
  {
   "cell_type": "code",
   "execution_count": null,
   "metadata": {},
   "outputs": [],
   "source": []
  },
  {
   "cell_type": "code",
   "execution_count": null,
   "metadata": {},
   "outputs": [],
   "source": []
  },
  {
   "cell_type": "code",
   "execution_count": null,
   "metadata": {},
   "outputs": [],
   "source": []
  },
  {
   "cell_type": "code",
   "execution_count": null,
   "metadata": {},
   "outputs": [],
   "source": []
  },
  {
   "cell_type": "code",
   "execution_count": null,
   "metadata": {},
   "outputs": [],
   "source": []
  }
 ],
 "metadata": {
  "kernelspec": {
   "display_name": "Python 3",
   "language": "python",
   "name": "python3"
  },
  "language_info": {
   "codemirror_mode": {
    "name": "ipython",
    "version": 3
   },
   "file_extension": ".py",
   "mimetype": "text/x-python",
   "name": "python",
   "nbconvert_exporter": "python",
   "pygments_lexer": "ipython3",
   "version": "3.6.8"
  },
  "toc": {
   "base_numbering": 1,
   "nav_menu": {},
   "number_sections": true,
   "sideBar": true,
   "skip_h1_title": false,
   "title_cell": "Table of Contents",
   "title_sidebar": "Contents",
   "toc_cell": false,
   "toc_position": {},
   "toc_section_display": true,
   "toc_window_display": false
  }
 },
 "nbformat": 4,
 "nbformat_minor": 2
}
