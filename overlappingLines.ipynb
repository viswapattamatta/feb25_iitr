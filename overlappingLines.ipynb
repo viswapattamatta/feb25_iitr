{
 "cells": [
  {
   "cell_type": "code",
   "execution_count": 4,
   "metadata": {},
   "outputs": [
    {
     "name": "stdout",
     "output_type": "stream",
     "text": [
      "6  is not in between\n",
      "-30  is not in between\n",
      "sorting in asc order  -30 6\n",
      "5  is in between -30  and  6\n"
     ]
    },
    {
     "data": {
      "text/plain": [
       "True"
      ]
     },
     "execution_count": 4,
     "metadata": {},
     "output_type": "execute_result"
    }
   ],
   "source": [
    "def is_between(a,b,x) : \n",
    "    num1 = a\n",
    "    num2 = b\n",
    "    if a > b :\n",
    "        num1 = b\n",
    "        num2 = a\n",
    "        print (\"sorting in asc order \", num1, num2)\n",
    "        \n",
    "    if (x >=num1 and x <=num2) :\n",
    "        print(x,\" is in between\", num1,\" and \", num2)\n",
    "        return True\n",
    "    else :\n",
    "        print(x,\" is not in between\")\n",
    "        return False\n",
    "\n",
    "def is_overlapping(x,y,a,b) :\n",
    "    if is_between(a,b,x) or is_between(a,b,y) or is_between(x,y,a) or is_between(x,y,b) :\n",
    "        return True\n",
    "    else :\n",
    "        return False\n",
    "\n",
    "is_overlapping(6,-30,5,5)"
   ]
  },
  {
   "cell_type": "code",
   "execution_count": 1,
   "metadata": {},
   "outputs": [],
   "source": [
    "## overlapping reactangles"
   ]
  },
  {
   "cell_type": "code",
   "execution_count": 2,
   "metadata": {},
   "outputs": [],
   "source": [
    "def is_overlapping_rect(fx1,fy1,fx2,fy2,sx1,sy1,sx2,sy2) :\n",
    "    x1,x2 = min(fx1,fx2),max(fx1,fx2)\n",
    "    x3,x4 = min(sx1,sx2),max(sx1,sx2)\n",
    "    print (x1,x2,x3,x4)\n",
    "    return is_overlapping(x1,x2,x3,x4)"
   ]
  },
  {
   "cell_type": "code",
   "execution_count": null,
   "metadata": {},
   "outputs": [],
   "source": [
    "is_overlapping_rect"
   ]
  }
 ],
 "metadata": {
  "kernelspec": {
   "display_name": "Python 3",
   "language": "python",
   "name": "python3"
  },
  "language_info": {
   "codemirror_mode": {
    "name": "ipython",
    "version": 3
   },
   "file_extension": ".py",
   "mimetype": "text/x-python",
   "name": "python",
   "nbconvert_exporter": "python",
   "pygments_lexer": "ipython3",
   "version": "3.6.8"
  },
  "toc": {
   "base_numbering": 1,
   "nav_menu": {},
   "number_sections": true,
   "sideBar": true,
   "skip_h1_title": false,
   "title_cell": "Table of Contents",
   "title_sidebar": "Contents",
   "toc_cell": false,
   "toc_position": {},
   "toc_section_display": true,
   "toc_window_display": false
  }
 },
 "nbformat": 4,
 "nbformat_minor": 2
}
