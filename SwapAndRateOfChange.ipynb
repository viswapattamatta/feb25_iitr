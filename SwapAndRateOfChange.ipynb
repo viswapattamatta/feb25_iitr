{
 "cells": [
  {
   "cell_type": "code",
   "execution_count": 1,
   "metadata": {},
   "outputs": [],
   "source": [
    "# Identify value based on Caliberation data\n",
    "\n",
    "#when current 1, the teperature was 30\n",
    "# when currrent 2, the temperature was 35\n",
    "# when current will be 3, what would be the temperature 40\n",
    "# current = 4, temp = 45\n",
    "# current 2.1, temp = 35.5"
   ]
  },
  {
   "cell_type": "code",
   "execution_count": 14,
   "metadata": {},
   "outputs": [
    {
     "data": {
      "text/plain": [
       "40.0"
      ]
     },
     "execution_count": 14,
     "metadata": {},
     "output_type": "execute_result"
    }
   ],
   "source": [
    "def find_y(data,x) : \n",
    "    \n",
    "    x1,y1 = data[0]\n",
    "    x2,y2 = data[1]\n",
    "    # y = x3-x1 * (y2-y1)/(x2-x1) + y1  \n",
    "    y = (x-x1) * ((y2-y1) / (x2-x1)) + y1   \n",
    "    return y\n",
    "            \n",
    "find_y([[1,30],[2,35]],3)"
   ]
  },
  {
   "cell_type": "raw",
   "metadata": {},
   "source": [
    "## using formula"
   ]
  },
  {
   "cell_type": "code",
   "execution_count": 15,
   "metadata": {},
   "outputs": [
    {
     "name": "stdout",
     "output_type": "stream",
     "text": [
      " m is 5.0, c is 25.0 \n",
      "result is 40.0\n"
     ]
    }
   ],
   "source": [
    "def findy2(data,x) :\n",
    "    x1,y1 = data[0]\n",
    "    x2,y2 = data[1]\n",
    "    m = (y2-y1) / (x2-x1)\n",
    "    c = y1 - m * x1\n",
    "    print(f\" m is {m}, c is {c} \")    \n",
    "    y = m*x+c\n",
    "    print(f\"result is {y}\")\n",
    "    \n",
    "findy2([[1,30],[2,35]],3)"
   ]
  },
  {
   "cell_type": "raw",
   "metadata": {},
   "source": [
    "## return model"
   ]
  },
  {
   "cell_type": "code",
   "execution_count": 21,
   "metadata": {},
   "outputs": [
    {
     "data": {
      "text/plain": [
       "40.0"
      ]
     },
     "execution_count": 21,
     "metadata": {},
     "output_type": "execute_result"
    }
   ],
   "source": [
    "def fit(data) :\n",
    "    x1,y1 = data[0]\n",
    "    x2,y2 = data[1]\n",
    "    m = (y2-y1) / (x2-x1)\n",
    "    c = y1 - m * x1\n",
    "    return m,c\n",
    "#fit([[1,30],[2,35]])\n",
    "\n",
    "def predict(data, x) :\n",
    "    model = fit(data)\n",
    "    y = model[0]*x +model[1]\n",
    "    return y\n",
    "predict(([1,30],[2,35]),3)"
   ]
  },
  {
   "cell_type": "code",
   "execution_count": 4,
   "metadata": {},
   "outputs": [],
   "source": [
    "# Find rate of change"
   ]
  },
  {
   "cell_type": "code",
   "execution_count": 5,
   "metadata": {},
   "outputs": [
    {
     "name": "stdout",
     "output_type": "stream",
     "text": [
      "result 15, new result 15.0006\n"
     ]
    },
    {
     "data": {
      "text/plain": [
       "6.00000000000378"
      ]
     },
     "execution_count": 5,
     "metadata": {},
     "output_type": "execute_result"
    }
   ],
   "source": [
    "    \n",
    "def calculate(x,y) : \n",
    "    result = 3*x + y**2\n",
    "    return round(result,4)\n",
    "\n",
    "def rate_of_change(func,x,y) : \n",
    "    result = func(x,y)\n",
    "    change = 0\n",
    "    delta = 0.0001\n",
    "    y2 = y + delta\n",
    "    new_result = func(x,y2)\n",
    "    print(f\"result {result}, new result {new_result}\")   \n",
    "    change = ((new_result - result) / delta)\n",
    "    return change\n",
    "\n",
    "rate_of_change(calculate,2,3)"
   ]
  },
  {
   "cell_type": "raw",
   "metadata": {},
   "source": [
    "### power of -- power is x^n =  1 * x^n"
   ]
  },
  {
   "cell_type": "code",
   "execution_count": 6,
   "metadata": {},
   "outputs": [
    {
     "data": {
      "text/plain": [
       "0"
      ]
     },
     "execution_count": 6,
     "metadata": {},
     "output_type": "execute_result"
    }
   ],
   "source": [
    "\n",
    "def power(x,n) :\n",
    "    if n == 0 :\n",
    "        return 1\n",
    "    return x * power(x,n-1)\n",
    "power(0,100)"
   ]
  },
  {
   "cell_type": "raw",
   "metadata": {},
   "source": [
    "### Swap 2 variables"
   ]
  },
  {
   "cell_type": "code",
   "execution_count": 7,
   "metadata": {},
   "outputs": [
    {
     "name": "stdout",
     "output_type": "stream",
     "text": [
      "3 2\n"
     ]
    }
   ],
   "source": [
    "\n",
    "def swap(x,y) :\n",
    "    x1,y1 = y,x\n",
    "    print(x1,y1)\n",
    "swap(2,3)"
   ]
  },
  {
   "cell_type": "code",
   "execution_count": 25,
   "metadata": {},
   "outputs": [
    {
     "data": {
      "text/plain": [
       "(3, 2)"
      ]
     },
     "execution_count": 25,
     "metadata": {},
     "output_type": "execute_result"
    }
   ],
   "source": [
    "# swap without a variable\n",
    "def swap2(x,y) : \n",
    "   ## use XoR? \n",
    "    y = x ^ y\n",
    "    x = y ^ x\n",
    "    y = y ^ x\n",
    "    return x,y\n",
    "swap2(2,3)"
   ]
  },
  {
   "cell_type": "markdown",
   "metadata": {},
   "source": [
    "## Shift left for n digits"
   ]
  },
  {
   "cell_type": "code",
   "execution_count": null,
   "metadata": {},
   "outputs": [],
   "source": [
    "## Shift left for n digits\n",
    "def shift(val,n) :\n",
    "    return (val[n:] + val[:n])\n",
    "\n",
    "shift([1,2,3,4],2)"
   ]
  },
  {
   "cell_type": "code",
   "execution_count": null,
   "metadata": {},
   "outputs": [],
   "source": [
    "#shift left without a new array\n",
    "def shift_left(val) : \n",
    "    x= val[0]\n",
    "    for i in range(0,len(val)):\n",
    "        if i < (len(val)- 1) :\n",
    "            val[i] = val[i+1]\n",
    "        else : \n",
    "            val[i] = x\n",
    "    print(val)\n",
    "shift_left([1,2,3,4])"
   ]
  },
  {
   "cell_type": "raw",
   "metadata": {},
   "source": [
    "# shift without a new array####"
   ]
  },
  {
   "cell_type": "code",
   "execution_count": null,
   "metadata": {
    "code_folding": []
   },
   "outputs": [],
   "source": [
    "#shift without a new array\n",
    "def shift_left_n(val,n) : \n",
    "    length = len(val)\n",
    "    if n >= length or n < 1:\n",
    "        return val\n",
    "    for i in range(0,length):\n",
    "        if i < len(val) -n :\n",
    "            val.append(val[i])\n",
    "            val[i] = val[i+n]\n",
    "            #print(val)\n",
    "    for i in range(0,length):\n",
    "        val.pop()\n",
    "    print(val)\n",
    "shift_left_n([1,2,3,4],2)"
   ]
  },
  {
   "cell_type": "raw",
   "metadata": {},
   "source": [
    "Array with XoRs of given arrays"
   ]
  },
  {
   "cell_type": "code",
   "execution_count": null,
   "metadata": {},
   "outputs": [],
   "source": [
    "# XoR for array\n",
    "def xor_of_array(x1,x2,x3) : \n",
    "    result = [0]* len(x1)\n",
    "    if not (len(x1) == len(x2) == len(x3)) :\n",
    "        return \"invalid input\"\n",
    "    for i in range(0,len(x1)) : \n",
    "        result[i] = x1[i]^ x2[i] ^ x3[i]\n",
    "    return result\n",
    "\n",
    "xor_of_array([1,2,4],[3,4,6],[4,5,9])"
   ]
  },
  {
   "cell_type": "code",
   "execution_count": null,
   "metadata": {},
   "outputs": [],
   "source": []
  }
 ],
 "metadata": {
  "kernelspec": {
   "display_name": "Python 3",
   "language": "python",
   "name": "python3"
  },
  "language_info": {
   "codemirror_mode": {
    "name": "ipython",
    "version": 3
   },
   "file_extension": ".py",
   "mimetype": "text/x-python",
   "name": "python",
   "nbconvert_exporter": "python",
   "pygments_lexer": "ipython3",
   "version": "3.6.8"
  },
  "toc": {
   "base_numbering": 1,
   "nav_menu": {},
   "number_sections": true,
   "sideBar": true,
   "skip_h1_title": false,
   "title_cell": "Table of Contents",
   "title_sidebar": "Contents",
   "toc_cell": false,
   "toc_position": {},
   "toc_section_display": true,
   "toc_window_display": false
  }
 },
 "nbformat": 4,
 "nbformat_minor": 2
}
