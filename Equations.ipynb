{
 "cells": [
  {
   "cell_type": "markdown",
   "metadata": {},
   "source": [
    "# Solve equations"
   ]
  },
  {
   "cell_type": "markdown",
   "metadata": {},
   "source": [
    "[2,3]\n",
    "2x = 3\n",
    "[4,2,5] [1,-1,3] \n",
    "4x+2y = 5\n",
    "x -y = 3"
   ]
  },
  {
   "cell_type": "code",
   "execution_count": 41,
   "metadata": {},
   "outputs": [],
   "source": [
    "def find_variable (arr, var) :\n",
    "    length = len(arr)\n",
    "    result = []\n",
    "    if(len(var) == 0) :\n",
    "        return (arr[1]/arr[0])\n",
    "    else:\n",
    "        temp = 0\n",
    "        for i in range(0,len(var)) :\n",
    "            temp += arr[i]*var[i]\n",
    "    variable = (arr[-1] - temp) / arr[-2]    \n",
    "    return variable\n",
    "        \n",
    "\n",
    "def multiply(arr,m):\n",
    "    for i in range(len(arr)) :\n",
    "        arr[i] = arr[i] * m\n",
    "    return arr \n",
    "\n",
    "def sub_and_eliminate(arr1, arr2) :\n",
    "    result = []\n",
    "    m1 = arr1[-2]\n",
    "    m2 = arr2[-2]\n",
    "    arr1 = multiply(arr1,m2)\n",
    "    arr2 = multiply(arr2,m1)\n",
    "    \n",
    "    for i in range(len(arr1)) :\n",
    "        temp = arr1[i] - arr2[i]\n",
    "        if(i != len(arr1)-2) : result.append(temp) \n",
    "    return result \n",
    "\n",
    "def eliminate_var(arr) : \n",
    "   \n",
    "    eqs = len(arr)\n",
    "    e_position = len(arr[0]) - 2\n",
    "    i = 0\n",
    "    result = []     \n",
    "    while i < eqs - 1 :        \n",
    "        result.append (sub_and_eliminate(arr[i],arr[i+1]) )\n",
    "        i+=1    \n",
    "    return result\n",
    "        \n",
    "\n",
    "def equations(arr) :\n",
    "    result = arr\n",
    "    temp = [arr[0]]\n",
    "    for i in range(len(arr)) :\n",
    "        if (len(result) > 1) :\n",
    "            print(f\"elimitate variable from - {result}\")\n",
    "            result = eliminate_var(result)\n",
    "            temp.append(result[0])        \n",
    "    temp = temp[::-1]\n",
    "    print(f\"Substitute to find value  - {temp}\")\n",
    "    variables = []\n",
    "    for k in range(0,len(temp)) : \n",
    "        variables.append(find_variable(temp[k],variables))\n",
    "            \n",
    "    return variables\n"
   ]
  },
  {
   "cell_type": "code",
   "execution_count": 40,
   "metadata": {},
   "outputs": [
    {
     "name": "stdout",
     "output_type": "stream",
     "text": [
      "elimitate variable from - [[1, -2, 8], [2, 1, 5]]\n",
      "Substitute to find value of variables in - [[2.5, 9.0], [0.5, -1.0, 4.0]]\n"
     ]
    },
    {
     "data": {
      "text/plain": [
       "[3.6, -2.2]"
      ]
     },
     "execution_count": 40,
     "metadata": {},
     "output_type": "execute_result"
    }
   ],
   "source": [
    "\n",
    "#Tests\n",
    "#equations([[4, 2, 1, 5],[1, -3, -1, 3],[3, 2, 2, 10]])       \n",
    "equations([[1,-2,8],[2,1,5]])\n",
    "\n",
    "#equations([[3,-1,2,5], [4,2,-1,6], [5,-3,1,1]])\n",
    "\n",
    "#equations([[1,1,1,1,10], [0,2,-1,2,5], [0,-1,3,-4,-1], [3,2,1,-1,12]])\n",
    "\n",
    "#equations([[2,5,-9,3,151],[5,6,-4,2,103],[3,-4,2,7,16],[11,7,4,-8,-32]])"
   ]
  },
  {
   "cell_type": "code",
   "execution_count": 34,
   "metadata": {},
   "outputs": [],
   "source": []
  },
  {
   "cell_type": "code",
   "execution_count": null,
   "metadata": {},
   "outputs": [],
   "source": []
  }
 ],
 "metadata": {
  "kernelspec": {
   "display_name": "Python 3",
   "language": "python",
   "name": "python3"
  },
  "language_info": {
   "codemirror_mode": {
    "name": "ipython",
    "version": 3
   },
   "file_extension": ".py",
   "mimetype": "text/x-python",
   "name": "python",
   "nbconvert_exporter": "python",
   "pygments_lexer": "ipython3",
   "version": "3.6.8"
  },
  "toc": {
   "base_numbering": 1,
   "nav_menu": {},
   "number_sections": true,
   "sideBar": true,
   "skip_h1_title": false,
   "title_cell": "Table of Contents",
   "title_sidebar": "Contents",
   "toc_cell": false,
   "toc_position": {},
   "toc_section_display": true,
   "toc_window_display": false
  }
 },
 "nbformat": 4,
 "nbformat_minor": 2
}
