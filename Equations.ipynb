{
 "cells": [
  {
   "cell_type": "code",
   "execution_count": 1,
   "metadata": {},
   "outputs": [],
   "source": [
    "# Solve equations"
   ]
  },
  {
   "cell_type": "markdown",
   "metadata": {},
   "source": [
    "[2,3]\n",
    "2x = 3\n",
    "[4,2,5] [1,-1,3] \n",
    "4x+2y = 5\n",
    "x -y = 3"
   ]
  },
  {
   "cell_type": "code",
   "execution_count": 15,
   "metadata": {},
   "outputs": [
    {
     "data": {
      "text/plain": [
       "[10.0]"
      ]
     },
     "execution_count": 15,
     "metadata": {},
     "output_type": "execute_result"
    }
   ],
   "source": [
    "# 1 variable\n",
    "\n",
    "def one_variable(arr) : \n",
    "    return [(arr[1]/arr[0])]\n",
    "\n",
    "one_variable([5,50])\n",
    "    "
   ]
  },
  {
   "cell_type": "code",
   "execution_count": 14,
   "metadata": {},
   "outputs": [
    {
     "name": "stdout",
     "output_type": "stream",
     "text": [
      "x are 4,1, y are 2, -1 \n",
      "2.0 1.0 2.5\n",
      "1.0 -1.0 3.0\n",
      "one variable eq - [3.0, 5.5]\n"
     ]
    },
    {
     "ename": "NameError",
     "evalue": "name 'one_variable' is not defined",
     "output_type": "error",
     "traceback": [
      "\u001b[0;31m---------------------------------------------------------------------------\u001b[0m",
      "\u001b[0;31mNameError\u001b[0m                                 Traceback (most recent call last)",
      "\u001b[0;32m<ipython-input-14-7ab595b971a3>\u001b[0m in \u001b[0;36m<module>\u001b[0;34m\u001b[0m\n\u001b[1;32m     25\u001b[0m     \u001b[0;32mreturn\u001b[0m \u001b[0mx\u001b[0m \u001b[0;34m+\u001b[0m \u001b[0;34m[\u001b[0m\u001b[0my\u001b[0m\u001b[0;34m]\u001b[0m\u001b[0;34m\u001b[0m\u001b[0;34m\u001b[0m\u001b[0m\n\u001b[1;32m     26\u001b[0m \u001b[0;34m\u001b[0m\u001b[0m\n\u001b[0;32m---> 27\u001b[0;31m \u001b[0mtwo_variables\u001b[0m\u001b[0;34m(\u001b[0m\u001b[0;34m[\u001b[0m\u001b[0;34m[\u001b[0m\u001b[0;36m4\u001b[0m\u001b[0;34m,\u001b[0m\u001b[0;36m2\u001b[0m\u001b[0;34m,\u001b[0m\u001b[0;36m5\u001b[0m\u001b[0;34m]\u001b[0m\u001b[0;34m,\u001b[0m\u001b[0;34m[\u001b[0m\u001b[0;36m1\u001b[0m\u001b[0;34m,\u001b[0m\u001b[0;34m-\u001b[0m\u001b[0;36m1\u001b[0m\u001b[0;34m,\u001b[0m\u001b[0;36m3\u001b[0m\u001b[0;34m]\u001b[0m\u001b[0;34m]\u001b[0m\u001b[0;34m)\u001b[0m\u001b[0;34m\u001b[0m\u001b[0;34m\u001b[0m\u001b[0m\n\u001b[0m",
      "\u001b[0;32m<ipython-input-14-7ab595b971a3>\u001b[0m in \u001b[0;36mtwo_variables\u001b[0;34m(arr)\u001b[0m\n\u001b[1;32m     20\u001b[0m \u001b[0;34m\u001b[0m\u001b[0m\n\u001b[1;32m     21\u001b[0m     \u001b[0;31m# find x\u001b[0m\u001b[0;34m\u001b[0m\u001b[0;34m\u001b[0m\u001b[0;34m\u001b[0m\u001b[0m\n\u001b[0;32m---> 22\u001b[0;31m     \u001b[0mx\u001b[0m \u001b[0;34m=\u001b[0m \u001b[0mone_variable\u001b[0m\u001b[0;34m(\u001b[0m\u001b[0meq\u001b[0m\u001b[0;34m)\u001b[0m\u001b[0;34m\u001b[0m\u001b[0;34m\u001b[0m\u001b[0m\n\u001b[0m\u001b[1;32m     23\u001b[0m     \u001b[0my\u001b[0m \u001b[0;34m=\u001b[0m \u001b[0mn1\u001b[0m \u001b[0;34m-\u001b[0m \u001b[0mx1\u001b[0m\u001b[0;34m*\u001b[0m \u001b[0mx\u001b[0m\u001b[0;34m[\u001b[0m\u001b[0;36m0\u001b[0m\u001b[0;34m]\u001b[0m\u001b[0;34m\u001b[0m\u001b[0;34m\u001b[0m\u001b[0m\n\u001b[1;32m     24\u001b[0m     \u001b[0mprint\u001b[0m\u001b[0;34m(\u001b[0m\u001b[0;34mf\" results - {x}, {y}\"\u001b[0m\u001b[0;34m)\u001b[0m\u001b[0;34m\u001b[0m\u001b[0;34m\u001b[0m\u001b[0m\n",
      "\u001b[0;31mNameError\u001b[0m: name 'one_variable' is not defined"
     ]
    }
   ],
   "source": [
    "def two_variables(arr) :\n",
    "    x1,x2 = arr[0][0],arr[1][0]\n",
    "    y1,y2 = arr[0][1],arr[1][1]\n",
    "    n1,n2 = arr[0][2],arr[1][2]\n",
    "    \n",
    "    print(f\"x are {x1},{x2}, y are {y1}, {y2} \")\n",
    "    #eliminate y\n",
    "    d1 = abs(y1)\n",
    "    d2 = abs(y2)\n",
    "    x1,y1,n1 = x1/d1, y1/d1, n1/d1\n",
    "    x2,y2,n2 = x2/d2, y2/d2, n2/d2\n",
    "    print(x1,y1,n1)\n",
    "    print(x2,y2,n2)\n",
    "    if y1 < 0 or y2 < 0 : \n",
    "        #add\n",
    "        eq = [x1+x2,n1+n2]\n",
    "    else :\n",
    "        eq = [x1-x2,n1-n2]\n",
    "    print(f\"one variable eq - {eq}\") \n",
    "    \n",
    "    # find x\n",
    "    x = one_variable(eq)\n",
    "    y = n1 - x1* x[0]\n",
    "    print(f\" results - {x}, {y}\")\n",
    "    return x + [y]\n",
    "        \n",
    "two_variables([[4,2,5],[1,-1,3]])"
   ]
  },
  {
   "cell_type": "code",
   "execution_count": 23,
   "metadata": {},
   "outputs": [
    {
     "name": "stdout",
     "output_type": "stream",
     "text": [
      "2\n",
      "i is 0\n",
      "new array is - [4, 2, 1, 5]\n",
      "0\n",
      "dive by 1\n",
      "4.0\n",
      "1\n",
      "dive by 1\n",
      "2.0\n",
      "2\n",
      "dive by 1\n",
      "1.0\n",
      "3\n",
      "dive by 1.0\n",
      "5.0\n",
      "i is 1\n",
      "new array is - [1, -3, -1, 3]\n",
      "0\n",
      "dive by -1\n",
      "-1.0\n",
      "1\n",
      "dive by -1\n",
      "3.0\n",
      "2\n",
      "dive by -1\n",
      "1.0\n",
      "3\n",
      "dive by 1.0\n",
      "3.0\n",
      "i is 2\n",
      "new array is - [3, 2, 2, 10]\n",
      "0\n",
      "dive by 2\n",
      "1.5\n",
      "1\n",
      "dive by 2\n",
      "1.0\n",
      "2\n",
      "dive by 2\n",
      "1.0\n",
      "3\n",
      "dive by 1.0\n",
      "10.0\n",
      "[1.5, 1.0, 1.0, 10.0]\n"
     ]
    }
   ],
   "source": [
    "def three_var(arr) : \n",
    "    v = len(arr[0]) - 2\n",
    "    print(v)\n",
    "    i=0\n",
    "    while i < len(arr) :\n",
    "        print(f\"i is {i}\")\n",
    "        new_arr = arr[i]\n",
    "        print(f\"new array is - {new_arr}\")\n",
    "        for j in range(0,len(new_arr)) :\n",
    "            print(j)\n",
    "            print(f\"dive by {new_arr[v]}\")\n",
    "            new_arr[j] = new_arr[j] / new_arr[v]\n",
    "            print(new_arr[j])\n",
    "        i +=1   \n",
    "    print(new_arr)\n",
    "    \n",
    "    #remove last variable\n",
    "   # arr1 = [arr[0][0]/arr[0[2],arr[0][1]/arr[0][2],arr[0][2]/arr[0][2],arr[0][3]/arr[0][2]]\n",
    "  #  arr2 = [arr[1][0]/arr[1][2],arr[1][1]/arr[1][2],arr[1][2]/arr[1][2],arr[1][3]/arr[1][2]]\n",
    "   # arr3 = [arr[2][0]/arr[2][2],arr[2][1]/arr[2][2],arr[2][2]/arr[2][2],arr[2][3]/arr[2][2]]\n",
    "    \n",
    "  #  arr1,arr2 = arr[0],arr[1]\n",
    "   # print(arr1[:3],arr2[:3])\n",
    "   # result = two_variables([arr1[:3],arr2[:3]])\n",
    "   # print(f\"2 variable result - {result}\")\n",
    "  #  var3 = arr1[-1] - (arr1[0] * result[0] + arr1[1] * result[1])\n",
    "   # print(var3)        \n",
    "three_var([[4, 2, 1, 5],[1, -3, -1, 3],[3, 2, 2, 10]])"
   ]
  },
  {
   "cell_type": "code",
   "execution_count": null,
   "metadata": {},
   "outputs": [],
   "source": []
  }
 ],
 "metadata": {
  "kernelspec": {
   "display_name": "Python 3",
   "language": "python",
   "name": "python3"
  },
  "language_info": {
   "codemirror_mode": {
    "name": "ipython",
    "version": 3
   },
   "file_extension": ".py",
   "mimetype": "text/x-python",
   "name": "python",
   "nbconvert_exporter": "python",
   "pygments_lexer": "ipython3",
   "version": "3.6.8"
  },
  "toc": {
   "base_numbering": 1,
   "nav_menu": {},
   "number_sections": true,
   "sideBar": true,
   "skip_h1_title": false,
   "title_cell": "Table of Contents",
   "title_sidebar": "Contents",
   "toc_cell": false,
   "toc_position": {},
   "toc_section_display": true,
   "toc_window_display": false
  }
 },
 "nbformat": 4,
 "nbformat_minor": 2
}
