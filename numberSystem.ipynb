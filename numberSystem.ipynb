{
 "cells": [
  {
   "cell_type": "code",
   "execution_count": 4,
   "metadata": {},
   "outputs": [
    {
     "name": "stdout",
     "output_type": "stream",
     "text": [
      "enter number to convert - 100\n",
      "Enter From Base - 10\n",
      "Enter To Base - 9\n",
      "converted number is =  121\n"
     ]
    }
   ],
   "source": [
    "# function to conver number from one base to another\n",
    "def convert_number_base(x, fromBase, toBase) :\n",
    "    result = 0\n",
    "    multiplier = 1  \n",
    "    \n",
    "    while x > 0 :  \n",
    "        y = x % toBase        \n",
    "        result = result + y*multiplier\n",
    "        multiplier = multiplier * fromBase\n",
    "        x = x//toBase        \n",
    "    return result\n",
    "#user input:\n",
    "try :\n",
    "    x = int(input(\"enter number to convert - \"))\n",
    "    fromBase = int(input(\"Enter From Base - \"))\n",
    "    toBase = int(input(\"Enter To Base - \"))\n",
    "    \n",
    "    if (fromBase !=10 and toBase !=10) :\n",
    "        #print(\"program is incomplete - try with base 10\")\n",
    "        tempToBase = 10\n",
    "        # First covert to base 10        \n",
    "        newNumber = convert_number_base(x,fromBase,tempToBase)        \n",
    "        #  now converting from base 10      \n",
    "        result = convert_number_base(newNumber,tempToBase,toBase)\n",
    "        print (\"converted number is = \", newNumber)  \n",
    "    \n",
    "    else :\n",
    "        newNumber = convert_number_base(x,fromBase,toBase)    \n",
    "        print (\"converted number is = \", newNumber)\n",
    "except :\n",
    "    print(\"Invalid number - Try again!\")\n",
    "    \n"
   ]
  },
  {
   "cell_type": "markdown",
   "metadata": {},
   "source": [
    "# Recursion using symbols"
   ]
  },
  {
   "cell_type": "code",
   "execution_count": 44,
   "metadata": {},
   "outputs": [
    {
     "name": "stdout",
     "output_type": "stream",
     "text": [
      "B\n"
     ]
    }
   ],
   "source": [
    "def convertToBase10(num,from_base) : \n",
    "    SYM = \"0123456789ABCDEFG\"\n",
    "    \n",
    "    if num < from_base  :\n",
    "        return SYM[num]\n",
    "    else :\n",
    "        rem = num % from_base\n",
    "        new = num // from_base\n",
    "        return convertToBase10(new,from_base) + SYM[rem]\n",
    "        \n",
    "print (convertToBase10(11,12))\n"
   ]
  },
  {
   "cell_type": "code",
   "execution_count": 31,
   "metadata": {},
   "outputs": [
    {
     "data": {
      "text/plain": [
       "17"
      ]
     },
     "execution_count": 31,
     "metadata": {},
     "output_type": "execute_result"
    }
   ],
   "source": []
  },
  {
   "cell_type": "code",
   "execution_count": null,
   "metadata": {},
   "outputs": [],
   "source": []
  }
 ],
 "metadata": {
  "kernelspec": {
   "display_name": "Python 3",
   "language": "python",
   "name": "python3"
  },
  "language_info": {
   "codemirror_mode": {
    "name": "ipython",
    "version": 3
   },
   "file_extension": ".py",
   "mimetype": "text/x-python",
   "name": "python",
   "nbconvert_exporter": "python",
   "pygments_lexer": "ipython3",
   "version": "3.6.8"
  },
  "toc": {
   "base_numbering": 1,
   "nav_menu": {},
   "number_sections": true,
   "sideBar": true,
   "skip_h1_title": false,
   "title_cell": "Table of Contents",
   "title_sidebar": "Contents",
   "toc_cell": false,
   "toc_position": {},
   "toc_section_display": true,
   "toc_window_display": false
  }
 },
 "nbformat": 4,
 "nbformat_minor": 2
}
