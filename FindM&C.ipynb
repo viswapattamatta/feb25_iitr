{
 "cells": [
  {
   "cell_type": "code",
   "execution_count": 1,
   "metadata": {},
   "outputs": [],
   "source": [
    "# find M and C for linear equation"
   ]
  },
  {
   "cell_type": "code",
   "execution_count": 10,
   "metadata": {},
   "outputs": [],
   "source": [
    "import sys\n",
    "\n",
    "\n",
    "def findError(m,c,x,y) :    \n",
    "    e = 0\n",
    "    for i in range(0,len(x)) :\n",
    "        pred_y  = m * x[i] + c\n",
    "        diff = pred_y - y[i]\n",
    "        e += diff * diff\n",
    "    return e\n",
    "\n",
    "def Tune(error,m,c,x,y,delta) :\n",
    "    \n",
    "    if error > findError(m+delta,c,x,y) :\n",
    "        while True :\n",
    "            new_error = findError(m+delta,c,x,y)\n",
    "            if new_error < error :\n",
    "                error = new_error\n",
    "                m = m + delta\n",
    "            else :\n",
    "                break\n",
    "    else : \n",
    "        while True :\n",
    "            new_error = findError(m-delta,c,x,y)\n",
    "            if new_error < error :\n",
    "                error = new_error\n",
    "                m = m - delta\n",
    "            else :\n",
    "                break\n",
    "    #print(f\"Caliberate M --> error sq is {error}, m is {m}, c is {c}\")\n",
    "    \n",
    "    if error > findError(m,c-delta,x,y) :\n",
    "        while True :\n",
    "            new_error = findError(m,c-delta,x,y)\n",
    "            if new_error < error :\n",
    "                error = new_error\n",
    "                c = c - delta\n",
    "            else : \n",
    "                break\n",
    "    else:\n",
    "        while True :\n",
    "            new_error = findError(m,c+delta,x,y)\n",
    "            if new_error < error :\n",
    "                error = new_error\n",
    "                c = c + delta\n",
    "            else : \n",
    "                break\n",
    "  #  print(f\"Caliberate C --- error sq is {error}, m is {m}, c is {c}\")\n",
    "    \n",
    "    return [m,c,error]\n",
    "\n",
    "def FindMC(arr) :\n",
    "\n",
    "    actual_y = []\n",
    "    x = []\n",
    "    m = 0\n",
    "    c = 0\n",
    "    error = sys.maxsize\n",
    "    \n",
    "    for i,y in arr :\n",
    "        actual_y.append(y)\n",
    "        x.append(i)     +\n",
    "    \n",
    "    increment = 1 \n",
    "    while True : \n",
    "        result = Tune(error,m,c,x,actual_y,increment)\n",
    "        m = result[0]\n",
    "        c = result[1]\n",
    "        new_error = result[2]\n",
    "        if error == new_error :\n",
    "            if increment == 1 :\n",
    "                increment = 10**-5\n",
    "            else:\n",
    "                break\n",
    "        else :\n",
    "            error = new_error\n",
    "\n",
    "    \n",
    "    print(f\"m is {m}, c is {c}, error is {error}\")\n",
    "    return m,c\n",
    "    "
   ]
  },
  {
   "cell_type": "code",
   "execution_count": 11,
   "metadata": {},
   "outputs": [
    {
     "name": "stdout",
     "output_type": "stream",
     "text": [
      "m is 4.000010000037857, c is 26.66651999944476, error is 1866.666666701701\n"
     ]
    },
    {
     "data": {
      "text/plain": [
       "(4.000010000037857, 26.66651999944476)"
      ]
     },
     "execution_count": 11,
     "metadata": {},
     "output_type": "execute_result"
    }
   ],
   "source": [
    "#FindMC([[1,20],[10,100],[30,130]])\n",
    "\n",
    "FindMC([[5,20],[10,100],[30,140]])\n",
    "\n",
    "#FindMC([[10,8],[40,12],[80,18]])"
   ]
  },
  {
   "cell_type": "code",
   "execution_count": null,
   "metadata": {},
   "outputs": [],
   "source": []
  }
 ],
 "metadata": {
  "kernelspec": {
   "display_name": "Python 3",
   "language": "python",
   "name": "python3"
  },
  "language_info": {
   "codemirror_mode": {
    "name": "ipython",
    "version": 3
   },
   "file_extension": ".py",
   "mimetype": "text/x-python",
   "name": "python",
   "nbconvert_exporter": "python",
   "pygments_lexer": "ipython3",
   "version": "3.6.8"
  },
  "toc": {
   "base_numbering": 1,
   "nav_menu": {},
   "number_sections": true,
   "sideBar": true,
   "skip_h1_title": false,
   "title_cell": "Table of Contents",
   "title_sidebar": "Contents",
   "toc_cell": false,
   "toc_position": {},
   "toc_section_display": true,
   "toc_window_display": false
  }
 },
 "nbformat": 4,
 "nbformat_minor": 2
}
