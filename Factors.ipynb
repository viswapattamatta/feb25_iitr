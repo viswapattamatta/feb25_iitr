{
 "cells": [
  {
   "cell_type": "markdown",
   "metadata": {},
   "source": [
    "# Find factors"
   ]
  },
  {
   "cell_type": "markdown",
   "metadata": {},
   "source": [
    "using loops"
   ]
  },
  {
   "cell_type": "code",
   "execution_count": 31,
   "metadata": {},
   "outputs": [
    {
     "data": {
      "text/plain": [
       "[2, 3, 3, 3]"
      ]
     },
     "execution_count": 31,
     "metadata": {},
     "output_type": "execute_result"
    }
   ],
   "source": [
    "def find_factors(num) : \n",
    "    f = []\n",
    "    if num == 0 or num ==1 :\n",
    "        return num\n",
    "    while num > 1 : \n",
    "        for d in range(2,num+1) :\n",
    "            if num % d == 0 :\n",
    "                f.append(d)\n",
    "                num = num // d\n",
    "                break          \n",
    "    return f\n",
    "find_factors(54)"
   ]
  },
  {
   "cell_type": "code",
   "execution_count": 29,
   "metadata": {},
   "outputs": [
    {
     "data": {
      "text/plain": [
       "[1, 2, 3, 3, 3]"
      ]
     },
     "execution_count": 29,
     "metadata": {},
     "output_type": "execute_result"
    }
   ],
   "source": [
    "def find_factors_loop(num) :\n",
    "    f = []\n",
    "    d = 2\n",
    "    while num > 1:\n",
    "        if num % d == 0 :\n",
    "            f.append(d)\n",
    "            num = num // d\n",
    "            d = 2\n",
    "        else :\n",
    "            d+=1\n",
    "    return [num] + f\n",
    "find_factors_loop(54)"
   ]
  },
  {
   "cell_type": "markdown",
   "metadata": {},
   "source": [
    "-- # using Recursion "
   ]
  },
  {
   "cell_type": "code",
   "execution_count": 35,
   "metadata": {},
   "outputs": [
    {
     "name": "stdout",
     "output_type": "stream",
     "text": [
      "[3, 3]\n",
      "[3, 3, 3]\n",
      "[2, 3, 3, 3]\n"
     ]
    },
    {
     "data": {
      "text/plain": [
       "[2, 3, 3, 3]"
      ]
     },
     "execution_count": 35,
     "metadata": {},
     "output_type": "execute_result"
    }
   ],
   "source": [
    "# Recursion:\n",
    "def find_factors_rec(num) :\n",
    "    for i in range(2,num) :\n",
    "        if num % i == 0 :\n",
    "            new_num = num // i\n",
    "            next_factors = find_factors_rec(new_num)\n",
    "            print([i] + next_factors)\n",
    "            return [i] + next_factors\n",
    "    return [num]\n",
    "find_factors_rec(54)"
   ]
  },
  {
   "cell_type": "raw",
   "metadata": {},
   "source": [
    "-- # Optimized code using sqrt"
   ]
  },
  {
   "cell_type": "code",
   "execution_count": 5,
   "metadata": {},
   "outputs": [
    {
     "data": {
      "text/plain": [
       "[13]"
      ]
     },
     "execution_count": 5,
     "metadata": {},
     "output_type": "execute_result"
    }
   ],
   "source": [
    "import math\n",
    "def find_factors_opt(num) :\n",
    "    for i in range(2,int(math.sqrt(num)) +1) :\n",
    "        if num % i == 0 :\n",
    "            new_num = num // i\n",
    "            next_factors = find_factors_opt(new_num)\n",
    "            return [i] + next_factors\n",
    "    return [num]\n",
    "find_factors_opt(13)"
   ]
  },
  {
   "cell_type": "code",
   "execution_count": 26,
   "metadata": {},
   "outputs": [
    {
     "data": {
      "text/plain": [
       "[2, 3]"
      ]
     },
     "execution_count": 26,
     "metadata": {},
     "output_type": "execute_result"
    }
   ],
   "source": [
    "def common_factors(num1,num2) :\n",
    "    f1 = find_factors_opt(num1)\n",
    "    f2 = find_factors_opt(num2)\n",
    "    cf = []\n",
    "    i,j = 0,0\n",
    "    while i <= len(f1)-1 and j <= len(f2)-1:\n",
    "        if f1[i] == f2[j] :\n",
    "            cf.append(f1[i])\n",
    "            i += 1\n",
    "            j += 1\n",
    "        elif  f1[i] < f2[j]: \n",
    "            i += 1\n",
    "        else :\n",
    "            j += 1           \n",
    "    return cf\n",
    "        \n",
    "common_factors(54,186)"
   ]
  },
  {
   "cell_type": "code",
   "execution_count": 30,
   "metadata": {},
   "outputs": [
    {
     "name": "stdout",
     "output_type": "stream",
     "text": [
      "common factors are [2, 3]\n"
     ]
    },
    {
     "data": {
      "text/plain": [
       "6"
      ]
     },
     "execution_count": 30,
     "metadata": {},
     "output_type": "execute_result"
    }
   ],
   "source": [
    "def hcf(num1,num2) :\n",
    "    cf = common_factors(num1,num2)\n",
    "    print(f\"common factors are {cf}\")\n",
    "    result = 1\n",
    "    for i in cf :\n",
    "        result = result*i\n",
    "    return result   \n",
    "hcf(54,186)"
   ]
  },
  {
   "cell_type": "markdown",
   "metadata": {},
   "source": [
    "### hcf by division"
   ]
  },
  {
   "cell_type": "code",
   "execution_count": 39,
   "metadata": {},
   "outputs": [
    {
     "data": {
      "text/plain": [
       "6"
      ]
     },
     "execution_count": 39,
     "metadata": {},
     "output_type": "execute_result"
    }
   ],
   "source": [
    "def hcf_divide(num1,num2) : \n",
    "    a,b = min(num1,num2) , max(num1,num2)\n",
    "    reminder = 1\n",
    "    while True :      \n",
    "        reminder = b % a\n",
    "        if reminder == 0 :\n",
    "            return a\n",
    "        else :\n",
    "            b = a\n",
    "            a = reminder\n",
    "hcf_divide(54,186)"
   ]
  },
  {
   "cell_type": "markdown",
   "metadata": {},
   "source": [
    "### Recursion for HCF"
   ]
  },
  {
   "cell_type": "code",
   "execution_count": 45,
   "metadata": {},
   "outputs": [
    {
     "data": {
      "text/plain": [
       "6"
      ]
     },
     "execution_count": 45,
     "metadata": {},
     "output_type": "execute_result"
    }
   ],
   "source": [
    "def hcf_rec(num1,num2) :\n",
    "    if num2 < num1 :\n",
    "        num1, num2 = num2, num1\n",
    "    rem = num2 % num1\n",
    "    if rem == 0 :\n",
    "        return num1\n",
    "    else:\n",
    "        return hcf_rec(num1,rem)\n",
    "hcf_rec(54,186)"
   ]
  },
  {
   "cell_type": "markdown",
   "metadata": {},
   "source": [
    "### find unique numbers in array"
   ]
  },
  {
   "cell_type": "code",
   "execution_count": 47,
   "metadata": {},
   "outputs": [
    {
     "data": {
      "text/plain": [
       "{2, 3, 4, 5, 6, 7, 8, 9}"
      ]
     },
     "execution_count": 47,
     "metadata": {},
     "output_type": "execute_result"
    }
   ],
   "source": [
    "def unique_set(arr) :\n",
    "    res = set()\n",
    "    for i in arr :\n",
    "        res.add(i)\n",
    "    return res\n",
    "unique_set([2,2,2,2,3,4,5,6,6,7,8,9])"
   ]
  },
  {
   "cell_type": "code",
   "execution_count": 52,
   "metadata": {},
   "outputs": [
    {
     "name": "stdout",
     "output_type": "stream",
     "text": [
      "{2: True, 3: True, 4: True, 5: True, 6: True, 7: True, 8: True, 9: True, 11: True, 14: True}\n"
     ]
    },
    {
     "data": {
      "text/plain": [
       "[2, 3, 4, 5, 6, 7, 8, 9, 11, 14]"
      ]
     },
     "execution_count": 52,
     "metadata": {},
     "output_type": "execute_result"
    }
   ],
   "source": [
    "def unique_dir(arr) :\n",
    "    res = dict()\n",
    "    for i in arr :\n",
    "        if i not in res :\n",
    "            res[i] = True\n",
    "    print(res)\n",
    "    return list(res.keys())\n",
    "unique_dir([2,2,2,2,3,4,5,6,6,7,8,9,11,11,11,14,14])"
   ]
  },
  {
   "cell_type": "code",
   "execution_count": null,
   "metadata": {},
   "outputs": [],
   "source": []
  }
 ],
 "metadata": {
  "kernelspec": {
   "display_name": "Python 3",
   "language": "python",
   "name": "python3"
  },
  "language_info": {
   "codemirror_mode": {
    "name": "ipython",
    "version": 3
   },
   "file_extension": ".py",
   "mimetype": "text/x-python",
   "name": "python",
   "nbconvert_exporter": "python",
   "pygments_lexer": "ipython3",
   "version": "3.6.8"
  },
  "toc": {
   "base_numbering": 1,
   "nav_menu": {},
   "number_sections": true,
   "sideBar": true,
   "skip_h1_title": false,
   "title_cell": "Table of Contents",
   "title_sidebar": "Contents",
   "toc_cell": false,
   "toc_position": {},
   "toc_section_display": true,
   "toc_window_display": false
  }
 },
 "nbformat": 4,
 "nbformat_minor": 2
}
