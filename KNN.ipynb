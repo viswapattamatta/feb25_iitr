{
 "cells": [
  {
   "cell_type": "raw",
   "metadata": {},
   "source": [
    "# KNN"
   ]
  },
  {
   "cell_type": "code",
   "execution_count": 26,
   "metadata": {},
   "outputs": [
    {
     "data": {
      "text/plain": [
       "1"
      ]
     },
     "execution_count": 26,
     "metadata": {},
     "output_type": "execute_result"
    }
   ],
   "source": [
    "def myknn(data,x) :\n",
    "    diff = x\n",
    "    i,j = 0,0\n",
    "    while i < len(data) :      \n",
    "        temp = abs(data[i][0] - x)\n",
    "        if (temp < diff) :\n",
    "            diff = temp\n",
    "            j = i\n",
    "        i+=1\n",
    "    return data[j][1]\n",
    "\n",
    "myknn([[0,1],[1,2],[3,6],[5,9],[8,15],[11,17]],0.5)        "
   ]
  },
  {
   "cell_type": "raw",
   "metadata": {},
   "source": [
    "# KNN approach 2 - "
   ]
  },
  {
   "cell_type": "code",
   "execution_count": 1,
   "metadata": {},
   "outputs": [
    {
     "data": {
      "text/plain": [
       "15"
      ]
     },
     "execution_count": 1,
     "metadata": {},
     "output_type": "execute_result"
    }
   ],
   "source": [
    "import sys\n",
    "def knn2(data,x) :\n",
    "    min_distance = sys.maxsize\n",
    "    i = 0\n",
    "    y = 0\n",
    "    for f,s in data :   \n",
    "        diff = abs(f-x)\n",
    "        if diff < min_distance :\n",
    "            min_distance = diff\n",
    "            i = f\n",
    "            y = s\n",
    "    return y\n",
    "knn2([[0,1],[1,2],[3,6],[5,9],[8,15],[11,17]],7.000876) "
   ]
  },
  {
   "cell_type": "raw",
   "metadata": {},
   "source": [
    "# Try using binary search "
   ]
  },
  {
   "cell_type": "code",
   "execution_count": null,
   "metadata": {},
   "outputs": [],
   "source": []
  },
  {
   "cell_type": "code",
   "execution_count": null,
   "metadata": {},
   "outputs": [],
   "source": []
  },
  {
   "cell_type": "code",
   "execution_count": 27,
   "metadata": {},
   "outputs": [
    {
     "data": {
      "text/plain": [
       "0.8333333333333334"
      ]
     },
     "execution_count": 27,
     "metadata": {},
     "output_type": "execute_result"
    }
   ],
   "source": [
    "def mean_abs_error(act,pred) : \n",
    "    result = 0\n",
    "    for i in range(0,len(act)) : \n",
    "        result += abs(act[i] - pred[i])\n",
    "    return result/len(act)\n",
    "mean_abs_error([1,2,3],[1.5,2,1,3])\n",
    "        "
   ]
  },
  {
   "cell_type": "code",
   "execution_count": 28,
   "metadata": {},
   "outputs": [
    {
     "data": {
      "text/plain": [
       "1.4166666666666667"
      ]
     },
     "execution_count": 28,
     "metadata": {},
     "output_type": "execute_result"
    }
   ],
   "source": [
    "def mean_sqr_error(act,pred) :\n",
    "    result = 0\n",
    "    for i in range(0,len(act)) :\n",
    "        result += (act[i] - pred[i]) **2\n",
    "    return result/len(act)\n",
    "mean_sqr_error([1,2,3],[1.5,2,1,3])   "
   ]
  },
  {
   "cell_type": "code",
   "execution_count": 29,
   "metadata": {},
   "outputs": [
    {
     "data": {
      "text/plain": [
       "1.1902380714238083"
      ]
     },
     "execution_count": 29,
     "metadata": {},
     "output_type": "execute_result"
    }
   ],
   "source": [
    "import math\n",
    "def root_mean_sqr_error(act,pred) :\n",
    "    result = math.sqrt(mean_sqr_error(act,pred))\n",
    "    return result\n",
    "root_mean_sqr_error([1,2,3],[1.5,2,1,3])   "
   ]
  },
  {
   "cell_type": "raw",
   "metadata": {},
   "source": [
    "# Caculate abs and mse on test"
   ]
  },
  {
   "cell_type": "code",
   "execution_count": 32,
   "metadata": {},
   "outputs": [],
   "source": [
    "def calculate_error(train,test) : \n",
    "    predicted = []\n",
    "    actual = []\n",
    "    \n",
    "    for e in test :\n",
    "        actual.append(e[1])\n",
    "    print(f\"actual y - {actual}\")\n",
    "    \n",
    "    for i in range(0,len(test)) :\n",
    "        x = test[i][0]\n",
    "        p = myknn(train,x)\n",
    "        predicted.append(p)\n",
    "    print(f\" predicted - {predicted}\")\n",
    "    mean_abs = mean_abs_error(actual,predicted)\n",
    "    mean_sqr = mean_sqr_error(actual,predicted)\n",
    "    mean_sqrt = root_mean_sqr_error(actual,predicted)\n",
    "    print(f\"abs - {mean_abs}, mean square error - {mean_sqr} , mean sqrt error {mean_sqrt}\")\n",
    "    \n",
    "    return \"done\"\n"
   ]
  },
  {
   "cell_type": "code",
   "execution_count": 33,
   "metadata": {},
   "outputs": [
    {
     "name": "stdout",
     "output_type": "stream",
     "text": [
      "actual y - [4, 100, 55]\n",
      " predicted - [30, 110, 30]\n",
      "abs - 20.333333333333332, mean square error - 467.0 , mean sqrt error 21.61018278497431\n"
     ]
    },
    {
     "data": {
      "text/plain": [
       "'done'"
      ]
     },
     "execution_count": 33,
     "metadata": {},
     "output_type": "execute_result"
    }
   ],
   "source": [
    "train = [[1,10], [2, 20], [3, 30], [10, 110]]\n",
    "test = [[3,4], [9, 100], [5, 55]]\n",
    "calculate_error(train,test)"
   ]
  },
  {
   "cell_type": "markdown",
   "metadata": {},
   "source": [
    "![Screen%20Shot%202025-04-06%20at%2012.38.25%20am.png]"
   ]
  },
  {
   "cell_type": "markdown",
   "metadata": {},
   "source": [
    "https://www.desmos.com/calculator/foo4x7xzrw"
   ]
  },
  {
   "cell_type": "code",
   "execution_count": null,
   "metadata": {},
   "outputs": [],
   "source": []
  }
 ],
 "metadata": {
  "kernelspec": {
   "display_name": "Python 3",
   "language": "python",
   "name": "python3"
  },
  "language_info": {
   "codemirror_mode": {
    "name": "ipython",
    "version": 3
   },
   "file_extension": ".py",
   "mimetype": "text/x-python",
   "name": "python",
   "nbconvert_exporter": "python",
   "pygments_lexer": "ipython3",
   "version": "3.6.8"
  },
  "toc": {
   "base_numbering": 1,
   "nav_menu": {},
   "number_sections": true,
   "sideBar": true,
   "skip_h1_title": false,
   "title_cell": "Table of Contents",
   "title_sidebar": "Contents",
   "toc_cell": false,
   "toc_position": {},
   "toc_section_display": true,
   "toc_window_display": false
  }
 },
 "nbformat": 4,
 "nbformat_minor": 2
}
