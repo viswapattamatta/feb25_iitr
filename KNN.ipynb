{
 "cells": [
  {
   "cell_type": "raw",
   "metadata": {},
   "source": [
    "# KNN"
   ]
  },
  {
   "cell_type": "code",
   "execution_count": 2,
   "metadata": {},
   "outputs": [
    {
     "data": {
      "text/plain": [
       "1"
      ]
     },
     "execution_count": 2,
     "metadata": {},
     "output_type": "execute_result"
    }
   ],
   "source": [
    "def myknn(data,x) :\n",
    "    diff = x\n",
    "    i,j = 0,0\n",
    "    while i < len(data) :      \n",
    "        temp = abs(data[i][0] - x)\n",
    "        if (temp < diff) :\n",
    "            diff = temp\n",
    "            j = i\n",
    "        i+=1\n",
    "    return data[j][1]\n",
    "\n",
    "myknn([[0,1],[1,2],[3,6],[5,9],[8,15],[11,17]],0.5)        "
   ]
  },
  {
   "cell_type": "raw",
   "metadata": {},
   "source": [
    "# Try using binary search "
   ]
  },
  {
   "cell_type": "code",
   "execution_count": null,
   "metadata": {},
   "outputs": [],
   "source": []
  },
  {
   "cell_type": "code",
   "execution_count": 9,
   "metadata": {},
   "outputs": [
    {
     "data": {
      "text/plain": [
       "0.8333333333333334"
      ]
     },
     "execution_count": 9,
     "metadata": {},
     "output_type": "execute_result"
    }
   ],
   "source": [
    "def mean_abs_error(act,pred) : \n",
    "    result = 0\n",
    "    for i in range(0,len(act)) : \n",
    "        result += abs(act[i] - pred[i])\n",
    "    return result/len(act)\n",
    "mean_abs_error([1,2,3],[1.5,2,1,3])\n",
    "        "
   ]
  },
  {
   "cell_type": "code",
   "execution_count": 10,
   "metadata": {},
   "outputs": [
    {
     "data": {
      "text/plain": [
       "1.4166666666666667"
      ]
     },
     "execution_count": 10,
     "metadata": {},
     "output_type": "execute_result"
    }
   ],
   "source": [
    "def mean_sqr_error(act,pred) :\n",
    "    result = 0\n",
    "    for i in range(0,len(act)) :\n",
    "        result += (act[i] - pred[i]) **2\n",
    "    return result/len(act)\n",
    "mean_sqr_error([1,2,3],[1.5,2,1,3])   "
   ]
  },
  {
   "cell_type": "code",
   "execution_count": 11,
   "metadata": {},
   "outputs": [
    {
     "data": {
      "text/plain": [
       "1.1902380714238083"
      ]
     },
     "execution_count": 11,
     "metadata": {},
     "output_type": "execute_result"
    }
   ],
   "source": [
    "import math\n",
    "def root_mean_sqr_error(act,pred) :\n",
    "    result = math.sqrt(mean_sqr_error(act,pred))\n",
    "    return result\n",
    "root_mean_sqr_error([1,2,3],[1.5,2,1,3])   "
   ]
  },
  {
   "cell_type": "code",
   "execution_count": null,
   "metadata": {},
   "outputs": [],
   "source": [
    "\n",
    "    "
   ]
  }
 ],
 "metadata": {
  "kernelspec": {
   "display_name": "Python 3",
   "language": "python",
   "name": "python3"
  },
  "language_info": {
   "codemirror_mode": {
    "name": "ipython",
    "version": 3
   },
   "file_extension": ".py",
   "mimetype": "text/x-python",
   "name": "python",
   "nbconvert_exporter": "python",
   "pygments_lexer": "ipython3",
   "version": "3.6.8"
  },
  "toc": {
   "base_numbering": 1,
   "nav_menu": {},
   "number_sections": true,
   "sideBar": true,
   "skip_h1_title": false,
   "title_cell": "Table of Contents",
   "title_sidebar": "Contents",
   "toc_cell": false,
   "toc_position": {},
   "toc_section_display": true,
   "toc_window_display": false
  }
 },
 "nbformat": 4,
 "nbformat_minor": 2
}
