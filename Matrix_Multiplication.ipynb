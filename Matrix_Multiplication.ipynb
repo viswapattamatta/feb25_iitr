{
 "cells": [
  {
   "cell_type": "code",
   "execution_count": 1,
   "metadata": {},
   "outputs": [],
   "source": [
    "# Matrix multiplication"
   ]
  },
  {
   "cell_type": "code",
   "execution_count": 33,
   "metadata": {},
   "outputs": [],
   "source": [
    "def multiply_rows(m1,m2) :  #[1,2] * [3,5]\n",
    "        result = 0\n",
    "        for i in range(0,len(m1)) :\n",
    "            result += (m1[i] * m2[i])\n",
    "        return result   \n",
    "    \n",
    "def multiply_matrix(m1, m2) :\n",
    "    \n",
    "    if len(m1[0]) != len(m2) :\n",
    "        return \"invalid matrix\"\n",
    "    result = []\n",
    "    i = 0\n",
    "    \n",
    "    while i < len(m1) :\n",
    "        mp = m1[i]\n",
    "        temp=[]\n",
    "        \n",
    "        for j in range(0,len(m2[0])) :            #e0j0 and e1j0\n",
    "            e = 0\n",
    "            mc = []\n",
    "            \n",
    "            while e < len(m2) :\n",
    "                mc.append(m2[e][j])                \n",
    "                e += 1            \n",
    "            temp.append(multiply_rows(mp,mc))\n",
    "            \n",
    "        result.append(temp)\n",
    "        #print(result)\n",
    "        i+=1\n",
    "        \n",
    "    return result\n",
    "\n",
    "#multiply_rows([1,2], [3,5])"
   ]
  },
  {
   "cell_type": "code",
   "execution_count": 34,
   "metadata": {},
   "outputs": [
    {
     "data": {
      "text/plain": [
       "[[-3, 6], [4, 9]]"
      ]
     },
     "execution_count": 34,
     "metadata": {},
     "output_type": "execute_result"
    }
   ],
   "source": [
    "#multiply_matrix([[1,2,3],[0,1,2], [1,2,5]], [[1,0],[0,1],[2,1]])\n",
    "\n",
    "#multiply_matrix([[1, 2],[2, 3]], [[3, 4, 7],[5, 6, 8]])\n",
    "\n",
    "multiply_matrix([[4,2,-1], [3,2,0]], [[0,1],[2,3],[7,4]])\n"
   ]
  },
  {
   "cell_type": "code",
   "execution_count": null,
   "metadata": {},
   "outputs": [],
   "source": []
  }
 ],
 "metadata": {
  "kernelspec": {
   "display_name": "Python 3",
   "language": "python",
   "name": "python3"
  },
  "language_info": {
   "codemirror_mode": {
    "name": "ipython",
    "version": 3
   },
   "file_extension": ".py",
   "mimetype": "text/x-python",
   "name": "python",
   "nbconvert_exporter": "python",
   "pygments_lexer": "ipython3",
   "version": "3.6.8"
  },
  "toc": {
   "base_numbering": 1,
   "nav_menu": {},
   "number_sections": true,
   "sideBar": true,
   "skip_h1_title": false,
   "title_cell": "Table of Contents",
   "title_sidebar": "Contents",
   "toc_cell": false,
   "toc_position": {},
   "toc_section_display": true,
   "toc_window_display": false
  }
 },
 "nbformat": 4,
 "nbformat_minor": 2
}
