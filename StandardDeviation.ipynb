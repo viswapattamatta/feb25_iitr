{
 "cells": [
  {
   "cell_type": "raw",
   "metadata": {},
   "source": [
    "# Find mean"
   ]
  },
  {
   "cell_type": "code",
   "execution_count": 19,
   "metadata": {},
   "outputs": [
    {
     "data": {
      "text/plain": [
       "2.5"
      ]
     },
     "execution_count": 19,
     "metadata": {},
     "output_type": "execute_result"
    }
   ],
   "source": [
    "def mean(arr) :\n",
    "    s = 0\n",
    "    for e in arr : \n",
    "        s += e\n",
    "    result = s / len(arr)\n",
    "    return result\n",
    "mean([1,2,3,4])"
   ]
  },
  {
   "cell_type": "code",
   "execution_count": 5,
   "metadata": {},
   "outputs": [],
   "source": [
    "# standard deviartion : sd = sqr( sum(x-mu)^2 / n) \n"
   ]
  },
  {
   "cell_type": "code",
   "execution_count": 20,
   "metadata": {},
   "outputs": [
    {
     "data": {
      "text/plain": [
       "1.118033988749895"
      ]
     },
     "execution_count": 20,
     "metadata": {},
     "output_type": "execute_result"
    }
   ],
   "source": [
    "import math\n",
    "def sd(arr) : \n",
    "    m = mean(arr)\n",
    "    r = 0\n",
    "    for e in arr :\n",
    "        r += (e - m)**2\n",
    "    sd = math.sqrt(r/len(arr))\n",
    "    return sd\n",
    "sd([1,2,3,4])\n",
    "#sd([1,1,1,1])"
   ]
  },
  {
   "cell_type": "raw",
   "metadata": {},
   "source": [
    "# Z score  z = (x-mu)/sd"
   ]
  },
  {
   "cell_type": "code",
   "execution_count": 29,
   "metadata": {},
   "outputs": [
    {
     "data": {
      "text/plain": [
       "0.0"
      ]
     },
     "execution_count": 29,
     "metadata": {},
     "output_type": "execute_result"
    }
   ],
   "source": [
    "def z(x,m,s) : \n",
    "    result = (x - m)/s\n",
    "    return result\n",
    "z(2.5,2.5,1.118)"
   ]
  },
  {
   "cell_type": "code",
   "execution_count": 32,
   "metadata": {},
   "outputs": [
    {
     "data": {
      "text/plain": [
       "[-1.3416815742397137,\n",
       " -0.44722719141323786,\n",
       " 0.0,\n",
       " 0.44722719141323786,\n",
       " 0.8944543828264757,\n",
       " 1.3416815742397137,\n",
       " 2.2361359570661894,\n",
       " 87.20930232558139,\n",
       " -896.690518783542]"
      ]
     },
     "execution_count": 32,
     "metadata": {},
     "output_type": "execute_result"
    }
   ],
   "source": [
    "def find_z(arr,m,s) :\n",
    "    result = []\n",
    "    i = 0\n",
    "    for e in arr :\n",
    "        i = z(e,m,s)\n",
    "        result.append(i)\n",
    "    return result\n",
    "find_z([1,2,2.5,3,3.5,4,5,100,-1000],2.5,1.118)"
   ]
  },
  {
   "cell_type": "raw",
   "metadata": {},
   "source": [
    "# Q: Use a simple linear method to convert values to betweem 0 and 1\n"
   ]
  },
  {
   "cell_type": "code",
   "execution_count": 40,
   "metadata": {},
   "outputs": [
    {
     "data": {
      "text/plain": [
       "[0.0, 0.25, 0.5, 0.75, 1.0]"
      ]
     },
     "execution_count": 40,
     "metadata": {},
     "output_type": "execute_result"
    }
   ],
   "source": [
    "def scaling(arr) :\n",
    "    l = min(arr)\n",
    "    h = max(arr)\n",
    "    result = []\n",
    "    for e in arr :\n",
    "        result.append((e - l)/(h-l))\n",
    "    return result\n",
    "#scaling([1, 1.5, 2])\n",
    "scaling([1,2,3,4,5])"
   ]
  },
  {
   "cell_type": "code",
   "execution_count": null,
   "metadata": {},
   "outputs": [],
   "source": []
  }
 ],
 "metadata": {
  "kernelspec": {
   "display_name": "Python 3",
   "language": "python",
   "name": "python3"
  },
  "language_info": {
   "codemirror_mode": {
    "name": "ipython",
    "version": 3
   },
   "file_extension": ".py",
   "mimetype": "text/x-python",
   "name": "python",
   "nbconvert_exporter": "python",
   "pygments_lexer": "ipython3",
   "version": "3.6.8"
  },
  "toc": {
   "base_numbering": 1,
   "nav_menu": {},
   "number_sections": true,
   "sideBar": true,
   "skip_h1_title": false,
   "title_cell": "Table of Contents",
   "title_sidebar": "Contents",
   "toc_cell": false,
   "toc_position": {},
   "toc_section_display": true,
   "toc_window_display": false
  }
 },
 "nbformat": 4,
 "nbformat_minor": 2
}
